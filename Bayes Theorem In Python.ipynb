{
 "cells": [
  {
   "cell_type": "markdown",
   "id": "13ba2254",
   "metadata": {},
   "source": [
    "# The `Bayes Theorem` "
   ]
  },
  {
   "cell_type": "code",
   "execution_count": 1,
   "id": "bed6d602",
   "metadata": {},
   "outputs": [],
   "source": [
    "import pandas as pd\n",
    "import numpy as np"
   ]
  },
  {
   "cell_type": "markdown",
   "id": "54d05bfd",
   "metadata": {},
   "source": [
    "The Bayes Theorem formula is the following:\n",
    "\n",
    "$$ \\mathbb{P}(A | Data) =  \\mathbb{P}(A) \\times \\frac{\\mathbb{P}(Data | A) }{\\mathbb{P}(Data)}$$"
   ]
  },
  {
   "cell_type": "markdown",
   "id": "93f812cd",
   "metadata": {},
   "source": [
    "This Notebook aims to put the Bayes Theorem into practice by answering the following hypothetical scenario: 'Should we play sport outside expecting some weather conditions ?'"
   ]
  },
  {
   "cell_type": "markdown",
   "id": "45196486",
   "metadata": {},
   "source": [
    "Created a dummy dataset with `weather conditions` (Rain, Sunny, Overcast) and `play` (Yes, No) suggesting whether a sport was played based on the weather conditions."
   ]
  },
  {
   "cell_type": "code",
   "execution_count": 2,
   "id": "9496b8a0",
   "metadata": {},
   "outputs": [
    {
     "data": {
      "text/html": [
       "<div>\n",
       "<style scoped>\n",
       "    .dataframe tbody tr th:only-of-type {\n",
       "        vertical-align: middle;\n",
       "    }\n",
       "\n",
       "    .dataframe tbody tr th {\n",
       "        vertical-align: top;\n",
       "    }\n",
       "\n",
       "    .dataframe thead th {\n",
       "        text-align: right;\n",
       "    }\n",
       "</style>\n",
       "<table border=\"1\" class=\"dataframe\">\n",
       "  <thead>\n",
       "    <tr style=\"text-align: right;\">\n",
       "      <th></th>\n",
       "      <th>weather</th>\n",
       "      <th>play</th>\n",
       "    </tr>\n",
       "  </thead>\n",
       "  <tbody>\n",
       "    <tr>\n",
       "      <th>0</th>\n",
       "      <td>Sunny</td>\n",
       "      <td>No</td>\n",
       "    </tr>\n",
       "    <tr>\n",
       "      <th>1</th>\n",
       "      <td>Overcast</td>\n",
       "      <td>Yes</td>\n",
       "    </tr>\n",
       "    <tr>\n",
       "      <th>2</th>\n",
       "      <td>Rainy</td>\n",
       "      <td>Yes</td>\n",
       "    </tr>\n",
       "    <tr>\n",
       "      <th>3</th>\n",
       "      <td>Sunny</td>\n",
       "      <td>Yes</td>\n",
       "    </tr>\n",
       "    <tr>\n",
       "      <th>4</th>\n",
       "      <td>Sunny</td>\n",
       "      <td>Yes</td>\n",
       "    </tr>\n",
       "    <tr>\n",
       "      <th>5</th>\n",
       "      <td>Overcast</td>\n",
       "      <td>Yes</td>\n",
       "    </tr>\n",
       "    <tr>\n",
       "      <th>6</th>\n",
       "      <td>Rainy</td>\n",
       "      <td>No</td>\n",
       "    </tr>\n",
       "    <tr>\n",
       "      <th>7</th>\n",
       "      <td>Rainy</td>\n",
       "      <td>No</td>\n",
       "    </tr>\n",
       "    <tr>\n",
       "      <th>8</th>\n",
       "      <td>Sunny</td>\n",
       "      <td>Yes</td>\n",
       "    </tr>\n",
       "    <tr>\n",
       "      <th>9</th>\n",
       "      <td>Rainy</td>\n",
       "      <td>Yes</td>\n",
       "    </tr>\n",
       "    <tr>\n",
       "      <th>10</th>\n",
       "      <td>Sunny</td>\n",
       "      <td>No</td>\n",
       "    </tr>\n",
       "    <tr>\n",
       "      <th>11</th>\n",
       "      <td>Overcast</td>\n",
       "      <td>Yes</td>\n",
       "    </tr>\n",
       "    <tr>\n",
       "      <th>12</th>\n",
       "      <td>Overcast</td>\n",
       "      <td>Yes</td>\n",
       "    </tr>\n",
       "    <tr>\n",
       "      <th>13</th>\n",
       "      <td>Rainy</td>\n",
       "      <td>No</td>\n",
       "    </tr>\n",
       "  </tbody>\n",
       "</table>\n",
       "</div>"
      ],
      "text/plain": [
       "     weather play\n",
       "0      Sunny   No\n",
       "1   Overcast  Yes\n",
       "2      Rainy  Yes\n",
       "3      Sunny  Yes\n",
       "4      Sunny  Yes\n",
       "5   Overcast  Yes\n",
       "6      Rainy   No\n",
       "7      Rainy   No\n",
       "8      Sunny  Yes\n",
       "9      Rainy  Yes\n",
       "10     Sunny   No\n",
       "11  Overcast  Yes\n",
       "12  Overcast  Yes\n",
       "13     Rainy   No"
      ]
     },
     "execution_count": 2,
     "metadata": {},
     "output_type": "execute_result"
    }
   ],
   "source": [
    "weather_data_example = ['Sunny', 'Overcast', 'Rainy', 'Sunny', 'Sunny', 'Overcast', 'Rainy', 'Rainy', 'Sunny',\n",
    "'Rainy', 'Sunny', 'Overcast', 'Overcast', 'Rainy']\n",
    "\n",
    "play_data_example = ['No', 'Yes', 'Yes', 'Yes', 'Yes', 'Yes', 'No', 'No', 'Yes', 'Yes', 'No', 'Yes', 'Yes', 'No']\n",
    "\n",
    "data = {'weather': weather_data_example, 'play': play_data_example}\n",
    "\n",
    "df = pd.DataFrame(data = data)\n",
    "df"
   ]
  },
  {
   "cell_type": "markdown",
   "id": "b1c6d7b3",
   "metadata": {},
   "source": [
    "Calculating the theoretical probability of a game being played:"
   ]
  },
  {
   "cell_type": "code",
   "execution_count": null,
   "id": "ab397eb4",
   "metadata": {},
   "outputs": [],
   "source": [
    "def prior_probability(event_name: str, observations: list) -> float:\n",
    "    return sum([element == event_name for element in observations])/len(observations)"
   ]
  },
  {
   "cell_type": "code",
   "execution_count": 55,
   "id": "5eed8ca6",
   "metadata": {},
   "outputs": [
    {
     "data": {
      "text/plain": [
       "0.6428571428571429"
      ]
     },
     "execution_count": 55,
     "metadata": {},
     "output_type": "execute_result"
    }
   ],
   "source": [
    "prior_probability('Yes', play_data_example)"
   ]
  },
  {
   "cell_type": "code",
   "execution_count": 56,
   "id": "f6dea2e5",
   "metadata": {},
   "outputs": [
    {
     "data": {
      "text/plain": [
       "0.35714285714285715"
      ]
     },
     "execution_count": 56,
     "metadata": {},
     "output_type": "execute_result"
    }
   ],
   "source": [
    "prior_probability('No', play_data_example)"
   ]
  },
  {
   "cell_type": "markdown",
   "id": "e905610d",
   "metadata": {},
   "source": [
    "Calculating the theoretical probability of the weather being Sunny, Overcast or Rainy knowing that a game was either played or played "
   ]
  },
  {
   "cell_type": "code",
   "execution_count": 6,
   "id": "9af47424",
   "metadata": {},
   "outputs": [],
   "source": [
    "def likelihood(weather, played, weather_data, play_data):\n",
    "    count_intersection = sum([ x == weather and y == played for x,y in zip(weather_data, play_data)])\n",
    "    count_known_data = sum([y == played for y in play_data])\n",
    "    return count_intersection / count_known_data\n"
   ]
  },
  {
   "cell_type": "code",
   "execution_count": 57,
   "id": "57c8f4b9",
   "metadata": {},
   "outputs": [
    {
     "data": {
      "text/plain": [
       "0.6"
      ]
     },
     "execution_count": 57,
     "metadata": {},
     "output_type": "execute_result"
    }
   ],
   "source": [
    "likelihood(\"Rainy\", \"No\", weather_data_example, play_data_example)"
   ]
  },
  {
   "cell_type": "markdown",
   "id": "e0a7fbd1",
   "metadata": {},
   "source": [
    "Computing the posterior probability as: \n",
    "\n",
    "$$\\large \\text{posterior probability} = \\text{prior probability} \\times \\text{likelihood} \\times \\beta $$ \n",
    "\n",
    "where $ \\large \\beta = \\frac{1}{P(weather)} $ is a normalisation factor.\n",
    " \n",
    "\n"
   ]
  },
  {
   "cell_type": "code",
   "execution_count": 58,
   "id": "f9ef90bc",
   "metadata": {},
   "outputs": [],
   "source": [
    "def posterior_probability(played, weather, weather_data, play_data):\n",
    "    p_played = prior_probability(played, play_data)\n",
    "    p_weather = prior_probability(weather, weather_data)\n",
    "    p_likelihood = likelihood(weather, played, weather_data, play_data)\n",
    "    return p_played * p_likelihood / p_weather"
   ]
  },
  {
   "cell_type": "markdown",
   "id": "038360c0",
   "metadata": {},
   "source": [
    "Testing the code"
   ]
  },
  {
   "cell_type": "code",
   "execution_count": 59,
   "id": "323137e6",
   "metadata": {},
   "outputs": [
    {
     "name": "stdout",
     "output_type": "stream",
     "text": [
      "0.6\n",
      "0.4\n",
      "1.0\n",
      "0.0\n",
      "0.39999999999999997\n",
      "0.4\n"
     ]
    }
   ],
   "source": [
    "print(posterior_probability(\"Yes\", \"Sunny\", weather_data_example, play_data_example))\n",
    "print(posterior_probability(\"No\", \"Sunny\", weather_data_example, play_data_example))\n",
    "print(posterior_probability(\"Yes\", \"Overcast\", weather_data_example, play_data_example))\n",
    "print(posterior_probability(\"No\", \"Overcast\", weather_data_example, play_data_example))\n",
    "print(posterior_probability(\"Yes\", \"Rainy\", weather_data_example, play_data_example))\n",
    "print(posterior_probability(\"No\", \"Sunny\", weather_data_example, play_data_example))"
   ]
  },
  {
   "cell_type": "markdown",
   "id": "c47c78e3",
   "metadata": {},
   "source": [
    "Matches are more likely to be played than not if the weather is sunny"
   ]
  },
  {
   "cell_type": "code",
   "execution_count": 60,
   "id": "04630f46",
   "metadata": {
    "tags": [
     "challengify"
    ]
   },
   "outputs": [
    {
     "data": {
      "text/plain": [
       "0.6"
      ]
     },
     "execution_count": 60,
     "metadata": {},
     "output_type": "execute_result"
    }
   ],
   "source": [
    "posterior_probability(\"Yes\", \"Sunny\", weather_data_example, play_data_example)"
   ]
  },
  {
   "cell_type": "markdown",
   "id": "4623199e",
   "metadata": {},
   "source": [
    "Best guess (probability) that the game will be canceled if you know for sure that it will be raining during the next game"
   ]
  },
  {
   "cell_type": "code",
   "execution_count": 61,
   "id": "3c309866",
   "metadata": {},
   "outputs": [
    {
     "data": {
      "text/plain": [
       "0.6"
      ]
     },
     "execution_count": 61,
     "metadata": {},
     "output_type": "execute_result"
    }
   ],
   "source": [
    "posterior_probability(\"No\", \"Rainy\", weather_data_example, play_data_example)"
   ]
  },
  {
   "cell_type": "code",
   "execution_count": 62,
   "id": "754033ca",
   "metadata": {},
   "outputs": [],
   "source": [
    "def detailed_analysis(weather_data_example, play_data_example):\n",
    "        \"\"\"\n",
    "        Provide a detailed probabilistic analysis of play decisions\n",
    "        \"\"\"\n",
    "        print(\"Detailed Probabilistic Sports Weather Analysis\\n\")\n",
    "\n",
    "        for weather in set(weather_data_example):\n",
    "            p_play = posterior_probability('Yes', weather, weather_data_example, play_data_example)\n",
    "            p_no_play = posterior_probability('No', weather, weather_data_example, play_data_example)\n",
    "\n",
    "            print(f\"Weather Condition: {weather}\")\n",
    "            print(f\"Probability of Playing: {p_play:.2%}\")\n",
    "            print(f\"Probability of Not Playing: {p_no_play:.2%}\")\n",
    "            print(\"Recommendation: \" +\n",
    "                  (\"Consider Playing\" if p_play > p_no_play else \"Likely to Cancel\") + \"\\n\")\n"
   ]
  },
  {
   "cell_type": "code",
   "execution_count": 63,
   "id": "db98f331",
   "metadata": {},
   "outputs": [
    {
     "name": "stdout",
     "output_type": "stream",
     "text": [
      "Detailed Probabilistic Sports Weather Analysis\n",
      "\n",
      "Weather Condition: Rainy\n",
      "Probability of Playing: 40.00%\n",
      "Probability of Not Playing: 60.00%\n",
      "Recommendation: Likely to Cancel\n",
      "\n",
      "Weather Condition: Overcast\n",
      "Probability of Playing: 100.00%\n",
      "Probability of Not Playing: 0.00%\n",
      "Recommendation: Consider Playing\n",
      "\n",
      "Weather Condition: Sunny\n",
      "Probability of Playing: 60.00%\n",
      "Probability of Not Playing: 40.00%\n",
      "Recommendation: Consider Playing\n",
      "\n"
     ]
    }
   ],
   "source": [
    "detailed_analysis(weather_data_example, play_data_example)"
   ]
  },
  {
   "cell_type": "code",
   "execution_count": 66,
   "id": "6bfcf0b8",
   "metadata": {},
   "outputs": [],
   "source": [
    "from typing import List, Dict, Tuple, Union\n",
    "import scipy.stats as stats\n",
    "\n",
    "def calculate_bayesian_probabilities(weather_data: List[str],\n",
    "                                     play_data: List[str]) -> Dict[str, Dict[str, float]]:\n",
    "    \"\"\"\n",
    "    Advanced Bayesian probability calculation with more nuanced statistical analysis\n",
    "\n",
    "    Args:\n",
    "        weather_data (List[str]): List of weather conditions\n",
    "        play_data (List[str]): Corresponding play/no play decisions\n",
    "\n",
    "    Returns:\n",
    "        Dict of probabilities and statistical metrics\n",
    "    \"\"\"\n",
    "    # Convert to pandas DataFrame for advanced analysis\n",
    "    df = pd.DataFrame({'weather': weather_data, 'play': play_data})\n",
    "\n",
    "    # Contingency table\n",
    "    contingency = pd.crosstab(df['weather'], df['play'], normalize='index')\n",
    "\n",
    "    # Chi-square test of independence\n",
    "    chi2, p_value = stats.chi2_contingency(pd.crosstab(df['weather'], df['play']))[:2]\n",
    "\n",
    "    # Detailed probability calculations\n",
    "    probabilities = {}\n",
    "    for weather in df['weather'].unique():\n",
    "        weather_subset = df[df['weather'] == weather]\n",
    "\n",
    "        # Calculate probabilities\n",
    "        total_games = len(weather_subset)\n",
    "        play_count = len(weather_subset[weather_subset['play'] == 'Yes'])\n",
    "\n",
    "        probabilities[weather] = {\n",
    "            'play_probability': play_count / total_games,\n",
    "            'no_play_probability': 1 - (play_count / total_games),\n",
    "            'sample_proportion': len(weather_subset) / len(df),\n",
    "            'play_count': play_count,\n",
    "            'total_games': total_games\n",
    "        }\n",
    "\n",
    "    # Statistical significance indicator\n",
    "    probabilities['statistical_test'] = {\n",
    "        'chi2_statistic': chi2,\n",
    "        'p_value': p_value,\n",
    "        'is_significant': p_value < 0.05  # Standard significance level\n",
    "    }\n",
    "\n",
    "    return probabilities\n"
   ]
  },
  {
   "cell_type": "code",
   "execution_count": 70,
   "id": "ecc4bc37",
   "metadata": {},
   "outputs": [
    {
     "data": {
      "text/plain": [
       "{'Sunny': {'play_probability': 0.6,\n",
       "  'no_play_probability': 0.4,\n",
       "  'sample_proportion': 0.35714285714285715,\n",
       "  'play_count': 3,\n",
       "  'total_games': 5},\n",
       " 'Overcast': {'play_probability': 1.0,\n",
       "  'no_play_probability': 0.0,\n",
       "  'sample_proportion': 0.2857142857142857,\n",
       "  'play_count': 4,\n",
       "  'total_games': 4},\n",
       " 'Rainy': {'play_probability': 0.4,\n",
       "  'no_play_probability': 0.6,\n",
       "  'sample_proportion': 0.35714285714285715,\n",
       "  'play_count': 2,\n",
       "  'total_games': 5},\n",
       " 'statistical_test': {'chi2_statistic': 3.5466666666666664,\n",
       "  'p_value': 0.16976615743981122,\n",
       "  'is_significant': False}}"
      ]
     },
     "execution_count": 70,
     "metadata": {},
     "output_type": "execute_result"
    }
   ],
   "source": [
    "calculate_bayesian_probabilities(weather_data_example, play_data_example)"
   ]
  },
  {
   "cell_type": "code",
   "execution_count": null,
   "id": "652fb053",
   "metadata": {},
   "outputs": [],
   "source": [
    "def bootstrap_confidence_interval(weather_data: List[str],\n",
    "                                   play_data: List[str],\n",
    "                                   n_bootstraps: int = 10000) -> Dict[str, Dict[str, float]]:\n",
    "    \"\"\"\n",
    "    Bootstrap confidence interval estimation for play probabilities\n",
    "\n",
    "    Args:\n",
    "        weather_data (List[str]): List of weather conditions\n",
    "        play_data (List[str]): Corresponding play/no play decisions\n",
    "        n_bootstraps (int): Number of bootstrap resamples\n",
    "\n",
    "    Returns:\n",
    "        Dictionary of confidence intervals for each weather condition\n",
    "    \"\"\"\n",
    "    df = pd.DataFrame({'weather': weather_data, 'play': play_data})\n",
    "\n",
    "    bootstrap_results = {}\n",
    "\n",
    "    for weather in df['weather'].unique():\n",
    "        weather_subset = df[df['weather'] == weather]\n",
    "        play_samples = (weather_subset['play'] == 'Yes').values\n",
    "\n",
    "        # Bootstrap resampling\n",
    "        bootstrap_play_probs = np.zeros(n_bootstraps)\n",
    "        for i in range(n_bootstraps):\n",
    "            # Sample with replacement\n",
    "            bootstrap_sample = np.random.choice(play_samples, size=len(play_samples), replace=True)\n",
    "            bootstrap_play_probs[i] = np.mean(bootstrap_sample)\n",
    "\n",
    "        # Calculate confidence intervals\n",
    "        bootstrap_results[weather] = {\n",
    "            'mean_play_probability': np.mean(bootstrap_play_probs),\n",
    "            'confidence_interval_95': (\n",
    "                np.percentile(bootstrap_play_probs, 2.5),\n",
    "                np.percentile(bootstrap_play_probs, 97.5)\n",
    "            ),\n",
    "            'standard_error': np.std(bootstrap_play_probs)\n",
    "        }\n",
    "\n",
    "    return bootstrap_results\n"
   ]
  },
  {
   "cell_type": "code",
   "execution_count": 67,
   "id": "b37a1ed9",
   "metadata": {},
   "outputs": [
    {
     "data": {
      "text/plain": [
       "{'Sunny': {'mean_play_probability': 0.601,\n",
       "  'confidence_interval_95': (0.2, 1.0),\n",
       "  'standard_error': 0.22110404790505306},\n",
       " 'Overcast': {'mean_play_probability': 1.0,\n",
       "  'confidence_interval_95': (1.0, 1.0),\n",
       "  'standard_error': 0.0},\n",
       " 'Rainy': {'mean_play_probability': 0.4019400000000001,\n",
       "  'confidence_interval_95': (0.0, 0.8),\n",
       "  'standard_error': 0.22050903927050244}}"
      ]
     },
     "execution_count": 67,
     "metadata": {},
     "output_type": "execute_result"
    }
   ],
   "source": [
    "bootstrap_confidence_interval(weather_data_example, play_data_example, n_bootstraps = 10000)"
   ]
  },
  {
   "cell_type": "code",
   "execution_count": 68,
   "id": "b5b76feb",
   "metadata": {},
   "outputs": [],
   "source": [
    "def bayesian_decision_analysis(weather_data: List[str],\n",
    "                                play_data: List[str],\n",
    "                                risk_tolerance: float = 0.5) -> Dict[str, Dict[str, Union[str, float]]]:\n",
    "    \"\"\"\n",
    "    Advanced Bayesian decision analysis with risk assessment\n",
    "\n",
    "    Args:\n",
    "        weather_data (List[str]): List of weather conditions\n",
    "        play_data (List[str]): Corresponding play/no play decisions\n",
    "        risk_tolerance (float): Threshold for decision-making\n",
    "\n",
    "    Returns:\n",
    "        Detailed decision analysis for each weather condition\n",
    "    \"\"\"\n",
    "    # Get Bayesian probabilities\n",
    "    probabilities = calculate_bayesian_probabilities(weather_data, play_data)\n",
    "\n",
    "    # Get bootstrap confidence intervals\n",
    "    bootstrap_intervals = bootstrap_confidence_interval(weather_data, play_data)\n",
    "\n",
    "    # Decision analysis\n",
    "    decision_analysis = {}\n",
    "    for weather in set(weather_data):\n",
    "        prob_stats = probabilities[weather]\n",
    "        bootstrap_stats = bootstrap_intervals[weather]\n",
    "\n",
    "        # Advanced decision logic\n",
    "        decision_score = (\n",
    "            prob_stats['play_probability'] * 0.7 +\n",
    "            (1 - abs(bootstrap_stats['confidence_interval_95'][0] -\n",
    "                     bootstrap_stats['confidence_interval_95'][1])) * 0.3\n",
    "        )\n",
    "\n",
    "        # Decision recommendation\n",
    "        recommendation = (\n",
    "            \"Highly Recommended\" if decision_score > 0.75 else\n",
    "            \"Recommended\" if decision_score > risk_tolerance else\n",
    "            \"Not Recommended\"\n",
    "        )\n",
    "\n",
    "        decision_analysis[weather] = {\n",
    "            **prob_stats,\n",
    "            **bootstrap_stats,\n",
    "            'decision_score': decision_score,\n",
    "            'recommendation': recommendation,\n",
    "            'confidence_interval': bootstrap_stats['confidence_interval_95']\n",
    "        }\n",
    "\n",
    "    # Include overall statistical test results\n",
    "    decision_analysis['statistical_significance'] = probabilities['statistical_test']\n",
    "\n",
    "    return decision_analysis\n"
   ]
  },
  {
   "cell_type": "code",
   "execution_count": 69,
   "id": "a6e1d5fa",
   "metadata": {},
   "outputs": [],
   "source": [
    "decision_analysis = bayesian_decision_analysis(weather_data_example, play_data_example)\n"
   ]
  },
  {
   "cell_type": "code",
   "execution_count": 53,
   "id": "3b8c3555",
   "metadata": {},
   "outputs": [
    {
     "data": {
      "text/plain": [
       "{'Rainy': {'play_probability': 0.4,\n",
       "  'no_play_probability': 0.6,\n",
       "  'sample_proportion': 0.35714285714285715,\n",
       "  'play_count': 2,\n",
       "  'total_games': 5,\n",
       "  'mean_play_probability': 0.39846000000000004,\n",
       "  'confidence_interval_95': (0.0, 0.8),\n",
       "  'standard_error': 0.21781099237641796,\n",
       "  'decision_score': 0.33999999999999997,\n",
       "  'recommendation': 'Not Recommended',\n",
       "  'confidence_interval': (0.0, 0.8)},\n",
       " 'Overcast': {'play_probability': 1.0,\n",
       "  'no_play_probability': 0.0,\n",
       "  'sample_proportion': 0.2857142857142857,\n",
       "  'play_count': 4,\n",
       "  'total_games': 4,\n",
       "  'mean_play_probability': 1.0,\n",
       "  'confidence_interval_95': (1.0, 1.0),\n",
       "  'standard_error': 0.0,\n",
       "  'decision_score': 1.0,\n",
       "  'recommendation': 'Highly Recommended',\n",
       "  'confidence_interval': (1.0, 1.0)},\n",
       " 'Sunny': {'play_probability': 0.6,\n",
       "  'no_play_probability': 0.4,\n",
       "  'sample_proportion': 0.35714285714285715,\n",
       "  'play_count': 3,\n",
       "  'total_games': 5,\n",
       "  'mean_play_probability': 0.5995199999999999,\n",
       "  'confidence_interval_95': (0.2, 1.0),\n",
       "  'standard_error': 0.21874133034248466,\n",
       "  'decision_score': 0.48,\n",
       "  'recommendation': 'Not Recommended',\n",
       "  'confidence_interval': (0.2, 1.0)},\n",
       " 'statistical_significance': {'chi2_statistic': 3.5466666666666664,\n",
       "  'p_value': 0.16976615743981122,\n",
       "  'is_significant': False}}"
      ]
     },
     "execution_count": 53,
     "metadata": {},
     "output_type": "execute_result"
    }
   ],
   "source": [
    "decision_analysis"
   ]
  },
  {
   "cell_type": "code",
   "execution_count": null,
   "id": "7a07ce17",
   "metadata": {},
   "outputs": [],
   "source": []
  }
 ],
 "metadata": {
  "kernelspec": {
   "display_name": "lewagon",
   "language": "python",
   "name": "python3"
  },
  "language_info": {
   "codemirror_mode": {
    "name": "ipython",
    "version": 3
   },
   "file_extension": ".py",
   "mimetype": "text/x-python",
   "name": "python",
   "nbconvert_exporter": "python",
   "pygments_lexer": "ipython3",
   "version": "3.10.6"
  },
  "toc": {
   "base_numbering": 1,
   "nav_menu": {},
   "number_sections": true,
   "sideBar": true,
   "skip_h1_title": false,
   "title_cell": "Table of Contents",
   "title_sidebar": "Contents",
   "toc_cell": false,
   "toc_position": {},
   "toc_section_display": true,
   "toc_window_display": false
  }
 },
 "nbformat": 4,
 "nbformat_minor": 5
}
